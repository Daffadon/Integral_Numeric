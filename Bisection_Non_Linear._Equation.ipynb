{
  "nbformat": 4,
  "nbformat_minor": 0,
  "metadata": {
    "colab": {
      "provenance": [],
      "collapsed_sections": []
    },
    "kernelspec": {
      "name": "python3",
      "display_name": "Python 3"
    },
    "language_info": {
      "name": "python"
    }
  },
  "cells": [
    {
      "cell_type": "markdown",
      "source": [
        "Daffa Putra Narendra\n",
        "\n",
        "215150207111049"
      ],
      "metadata": {
        "id": "RBdSrS-jvs_N"
      }
    },
    {
      "cell_type": "markdown",
      "source": [
        "# Bisection Method"
      ],
      "metadata": {
        "id": "gkxVtDADBjJK"
      }
    },
    {
      "cell_type": "code",
      "execution_count": null,
      "metadata": {
        "id": "vagXa3qbBVFZ"
      },
      "outputs": [],
      "source": [
        "def bisection(f, a, b, e):\n",
        "    if not (f(a) * f(b) < 0):\n",
        "        raise Exception(\n",
        "            \"Nilai a dan b tidak memenuhi syarat, akar yang dicari tidak berada di antara a dan b!\")\n",
        "\n",
        "    print(\"i\", \"\\t\", \"a\", \"\\t\", \"b\", \"\\t\", \"f(a)\", \"\\t\", \"f(b)\", \"\\t\", \"c\", \"\\t\", \"f(c)\")\n",
        "    i = 0\n",
        "    c = (a + b)/2\n",
        "    while (abs(f(c)) > e):\n",
        "        i += 1\n",
        "        print(i, \"\\t\", round(a, 3), \"\\t\", round(b, 3), \"\\t\", round(f(a), 3), \"\\t\", round(f(b), 3), \"\\t\", round(c, 3), \"\\t\", round(f(c), 6))\n",
        "        if (f(a) * f(c) < 0):\n",
        "            b = c\n",
        "        elif (f(a) * f(c) > 0):\n",
        "            a = c\n",
        "        c = (a + b)/2\n",
        "    print(f\"nilai akar persamaan menggunakan bisection adalah {c}\")\n",
        "    return c"
      ]
    },
    {
      "cell_type": "code",
      "source": [
        "def bisection_recursive(f, a, b, e, i):\n",
        "    if not (f(a) * f(b) < 0):\n",
        "        raise Exception(\n",
        "            \"Nilai a dan b tidak memenuhi syarat, akar yang dicari tidak berada di antara a dan b!\")\n",
        "\n",
        "    i += 1\n",
        "    c = (a + b)/2\n",
        "    print(i, \"\\t\", round(a, 3), \"\\t\", round(b, 3), \"\\t\", round(f(a), 3), \"\\t\", round(f(b), 3), \"\\t\", round(c, 3), \"\\t\", round(f(c), 6))\n",
        "\n",
        "    if abs(f(c)) < e:\n",
        "        return c\n",
        "    else:\n",
        "        if (f(a) * f(c) < 0):\n",
        "            b = c\n",
        "        else:\n",
        "            a = c\n",
        "        return bisection_recursive(f, a, b, e, i)"
      ],
      "metadata": {
        "id": "7G6qAFuiBg_W"
      },
      "execution_count": null,
      "outputs": []
    },
    {
      "cell_type": "markdown",
      "source": [
        "# Code Bisection"
      ],
      "metadata": {
        "id": "H109iJTwBp9C"
      }
    },
    {
      "cell_type": "code",
      "source": [
        "f = lambda x:x**2 + 5*x - 6\n",
        "batas_kiri1 = 0\n",
        "batas_kanan1 = 10\n",
        "# batas_kiri1 = random.randint(-6,0)\n",
        "# batas_kanan1 = random.randint(1,100)\n",
        "error = 10e-6\n",
        "akar1 = bisection(f,batas_kiri1,batas_kanan1,error)\n",
        "batas_kanan2 = batas_kiri1\n",
        "batas_kiri2 = batas_kanan1*-1\n",
        "akar2 = bisection_recursive(f,batas_kiri2,batas_kanan2,error,0)\n",
        "print(f\"nilai akar persamaan menggunakan bisection recursive adalah {akar2}\")\n",
        "print(f\"Jadi akar-akar persamaan dari fungsi x**2 + 5*x - 6 adalah [{akar1},{akar2}]\")"
      ],
      "metadata": {
        "id": "ssauYWeHBt1S",
        "colab": {
          "base_uri": "https://localhost:8080/"
        },
        "outputId": "8a051d0c-83eb-4008-e0ce-e8d4eb3202dd"
      },
      "execution_count": null,
      "outputs": [
        {
          "output_type": "stream",
          "name": "stdout",
          "text": [
            "i \t a \t b \t f(a) \t f(b) \t c \t f(c)\n",
            "1 \t 0 \t 10 \t -6 \t 144 \t 5.0 \t 44.0\n",
            "2 \t 0 \t 5.0 \t -6 \t 44.0 \t 2.5 \t 12.75\n",
            "3 \t 0 \t 2.5 \t -6 \t 12.75 \t 1.25 \t 1.8125\n",
            "4 \t 0 \t 1.25 \t -6 \t 1.812 \t 0.625 \t -2.484375\n",
            "5 \t 0.625 \t 1.25 \t -2.484 \t 1.812 \t 0.938 \t -0.433594\n",
            "6 \t 0.938 \t 1.25 \t -0.434 \t 1.812 \t 1.094 \t 0.665039\n",
            "7 \t 0.938 \t 1.094 \t -0.434 \t 0.665 \t 1.016 \t 0.109619\n",
            "8 \t 0.938 \t 1.016 \t -0.434 \t 0.11 \t 0.977 \t -0.163513\n",
            "9 \t 0.977 \t 1.016 \t -0.164 \t 0.11 \t 0.996 \t -0.027328\n",
            "10 \t 0.996 \t 1.016 \t -0.027 \t 0.11 \t 1.006 \t 0.04105\n",
            "11 \t 0.996 \t 1.006 \t -0.027 \t 0.041 \t 1.001 \t 0.006837\n",
            "12 \t 0.996 \t 1.001 \t -0.027 \t 0.007 \t 0.999 \t -0.010252\n",
            "13 \t 0.999 \t 1.001 \t -0.01 \t 0.007 \t 1.0 \t -0.001709\n",
            "14 \t 1.0 \t 1.001 \t -0.002 \t 0.007 \t 1.0 \t 0.002564\n",
            "15 \t 1.0 \t 1.0 \t -0.002 \t 0.003 \t 1.0 \t 0.000427\n",
            "16 \t 1.0 \t 1.0 \t -0.002 \t 0.0 \t 1.0 \t -0.000641\n",
            "17 \t 1.0 \t 1.0 \t -0.001 \t 0.0 \t 1.0 \t -0.000107\n",
            "18 \t 1.0 \t 1.0 \t -0.0 \t 0.0 \t 1.0 \t 0.00016\n",
            "19 \t 1.0 \t 1.0 \t -0.0 \t 0.0 \t 1.0 \t 2.7e-05\n",
            "20 \t 1.0 \t 1.0 \t -0.0 \t 0.0 \t 1.0 \t -4e-05\n",
            "nilai akar persamaan menggunakan bisection adalah 0.9999990463256836\n",
            "1 \t -10 \t 0 \t 44 \t -6 \t -5.0 \t -6.0\n",
            "2 \t -10 \t -5.0 \t 44 \t -6.0 \t -7.5 \t 12.75\n",
            "3 \t -7.5 \t -5.0 \t 12.75 \t -6.0 \t -6.25 \t 1.8125\n",
            "4 \t -6.25 \t -5.0 \t 1.812 \t -6.0 \t -5.625 \t -2.484375\n",
            "5 \t -6.25 \t -5.625 \t 1.812 \t -2.484 \t -5.938 \t -0.433594\n",
            "6 \t -6.25 \t -5.938 \t 1.812 \t -0.434 \t -6.094 \t 0.665039\n",
            "7 \t -6.094 \t -5.938 \t 0.665 \t -0.434 \t -6.016 \t 0.109619\n",
            "8 \t -6.016 \t -5.938 \t 0.11 \t -0.434 \t -5.977 \t -0.163513\n",
            "9 \t -6.016 \t -5.977 \t 0.11 \t -0.164 \t -5.996 \t -0.027328\n",
            "10 \t -6.016 \t -5.996 \t 0.11 \t -0.027 \t -6.006 \t 0.04105\n",
            "11 \t -6.006 \t -5.996 \t 0.041 \t -0.027 \t -6.001 \t 0.006837\n",
            "12 \t -6.001 \t -5.996 \t 0.007 \t -0.027 \t -5.999 \t -0.010252\n",
            "13 \t -6.001 \t -5.999 \t 0.007 \t -0.01 \t -6.0 \t -0.001709\n",
            "14 \t -6.001 \t -6.0 \t 0.007 \t -0.002 \t -6.0 \t 0.002564\n",
            "15 \t -6.0 \t -6.0 \t 0.003 \t -0.002 \t -6.0 \t 0.000427\n",
            "16 \t -6.0 \t -6.0 \t 0.0 \t -0.002 \t -6.0 \t -0.000641\n",
            "17 \t -6.0 \t -6.0 \t 0.0 \t -0.001 \t -6.0 \t -0.000107\n",
            "18 \t -6.0 \t -6.0 \t 0.0 \t -0.0 \t -6.0 \t 0.00016\n",
            "19 \t -6.0 \t -6.0 \t 0.0 \t -0.0 \t -6.0 \t 2.7e-05\n",
            "20 \t -6.0 \t -6.0 \t 0.0 \t -0.0 \t -6.0 \t -4e-05\n",
            "21 \t -6.0 \t -6.0 \t 0.0 \t -0.0 \t -6.0 \t -7e-06\n",
            "nilai akar persamaan menggunakan bisection recursive adalah -5.999999046325684\n",
            "Jadi akar-akar persamaan dari fungsi x**2 + 5*x - 6 adalah [0.9999990463256836,-5.999999046325684]\n"
          ]
        }
      ]
    }
  ]
}