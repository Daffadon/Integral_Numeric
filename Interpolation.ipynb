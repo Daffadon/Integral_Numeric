{
  "cells": [
    {
      "cell_type": "markdown",
      "metadata": {
        "id": "FleKVSXisU6l"
      },
      "source": [
        "## NEWTON"
      ]
    },
    {
      "cell_type": "code",
      "execution_count": 46,
      "metadata": {},
      "outputs": [],
      "source": [
        "import numpy as np\n",
        "x = np.array([1,2,3,4,5,6,7,8,9,10])\n",
        "y = np.array([7.03948302,11.2347113,15.3418565,19.1049999,23.2723955,27.4985445,31.6573844,35.81462,39.5455326,43.4423335])"
      ]
    },
    {
      "cell_type": "code",
      "execution_count": 53,
      "metadata": {
        "id": "ehFTuuEmiXpO"
      },
      "outputs": [],
      "source": [
        "def b_coefficient(x, y):\n",
        "    m = len(x)\n",
        "\n",
        "    x_temp = np.copy(x)\n",
        "    y_temp = np.copy(y)\n",
        "    for k in range(1, m):\n",
        "        y_temp[k:m] = (y_temp[k:m] - y_temp[k - 1])/(x_temp[k:m] - x_temp[k - 1])\n",
        "    return y_temp\n",
        "\n",
        "def newton_polynomial(x_data, y_data, x_target):\n",
        "\n",
        "    b_coef = b_coefficient(x_data, y_data)\n",
        "    n = len(x_data) - 1 \n",
        "    result = b_coef[n]\n",
        "    for k in range(1, n + 1):\n",
        "        result = b_coef[n - k] + (x_target - x_data[n - k])*result\n",
        "    return result"
      ]
    },
    {
      "cell_type": "code",
      "execution_count": 55,
      "metadata": {
        "colab": {
          "base_uri": "https://localhost:8080/"
        },
        "id": "m2v9p59tiYl4",
        "outputId": "c815f078-029f-44d0-af99-3b7a632e76f8"
      },
      "outputs": [
        {
          "name": "stdout",
          "output_type": "stream",
          "text": [
            "titk baru hasil polinomial adalah (4.5,21.152020375343323)\n"
          ]
        }
      ],
      "source": [
        "target = 4.5\n",
        "a = newton_polynomial(x, y,target)\n",
        "print(f'titk baru hasil polinomial adalah (4.5,{a})')"
      ]
    },
    {
      "cell_type": "markdown",
      "metadata": {
        "id": "7K6WRGrDsra1"
      },
      "source": [
        "## LAGRANGE"
      ]
    },
    {
      "cell_type": "code",
      "execution_count": 83,
      "metadata": {},
      "outputs": [],
      "source": [
        "import numpy as np\n",
        "x = np.array([1,2,3,4,5,6,7,8,9,10])\n",
        "y = np.array([7.03948302,11.2347113,15.3418565,19.1049999,23.2723955,27.4985445,31.6573844,35.81462,39.5455326,43.4423335])"
      ]
    },
    {
      "cell_type": "code",
      "execution_count": 84,
      "metadata": {},
      "outputs": [],
      "source": [
        "def lagrange(x,y,x_target):\n",
        "    lagrange = 0\n",
        "    for i in range(0,len(x)):\n",
        "        l_temp = 1\n",
        "        for j in range (0,len(y)):\n",
        "            if i != j:\n",
        "                l_temp = (l_temp*(x_target-x[j]))/(x[i]-x[j])\n",
        "        lagrange = lagrange+y[i]*l_temp\n",
        "    return lagrange"
      ]
    },
    {
      "cell_type": "code",
      "execution_count": 86,
      "metadata": {},
      "outputs": [
        {
          "name": "stdout",
          "output_type": "stream",
          "text": [
            "21.15202037534332\n"
          ]
        }
      ],
      "source": [
        "print(lagrange(x,y,4.5))"
      ]
    },
    {
      "cell_type": "markdown",
      "metadata": {
        "id": "EVhVZMNxsynE"
      },
      "source": [
        "## REGRESI LINEAR"
      ]
    },
    {
      "cell_type": "code",
      "execution_count": 92,
      "metadata": {},
      "outputs": [],
      "source": [
        "import numpy as np\n",
        "x = np.array([1,2,3,4,5,6,7,8,9,10])\n",
        "y = np.array([7.03948302,11.2347113,15.3418565,19.1049999,23.2723955,27.4985445,31.6573844,35.81462,39.5455326,43.4423335])"
      ]
    },
    {
      "cell_type": "code",
      "execution_count": 93,
      "metadata": {},
      "outputs": [],
      "source": [
        "def find_y(x):\n",
        "  return slope * x + intercept"
      ]
    },
    {
      "cell_type": "code",
      "execution_count": 94,
      "metadata": {},
      "outputs": [
        {
          "name": "stdout",
          "output_type": "stream",
          "text": [
            "21.334285980060603\n"
          ]
        }
      ],
      "source": [
        "from scipy import stats\n",
        "\n",
        "slope, intercept, r, p, std_err = stats.linregress(x, y)\n",
        "print(find_y(4.5))"
      ]
    }
  ],
  "metadata": {
    "colab": {
      "collapsed_sections": [],
      "provenance": []
    },
    "kernelspec": {
      "display_name": "Python 3.10.8 64-bit",
      "language": "python",
      "name": "python3"
    },
    "language_info": {
      "codemirror_mode": {
        "name": "ipython",
        "version": 3
      },
      "file_extension": ".py",
      "mimetype": "text/x-python",
      "name": "python",
      "nbconvert_exporter": "python",
      "pygments_lexer": "ipython3",
      "version": "3.10.8 (tags/v3.10.8:aaaf517, Oct 11 2022, 16:50:30) [MSC v.1933 64 bit (AMD64)]"
    },
    "vscode": {
      "interpreter": {
        "hash": "02a7c780b642cf71b64c5b4226c881845b63ca569a9cb345e07baab0f6977591"
      }
    }
  },
  "nbformat": 4,
  "nbformat_minor": 0
}
