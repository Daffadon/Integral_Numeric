{
  "cells": [
    {
      "cell_type": "markdown",
      "metadata": {
        "id": "QlE0LcE66zqi"
      },
      "source": [
        "# GAUSS"
      ]
    },
    {
      "cell_type": "code",
      "execution_count": 1,
      "metadata": {
        "id": "sRiizoZV42z7"
      },
      "outputs": [],
      "source": [
        "import numpy as np\n",
        "def gauss_elimination(matriks):\n",
        "  solusi = [0,0,0]\n",
        "  n = len(matriks[0])\n",
        "  for i in range (0,n-1):\n",
        "    if matriks[i][i] == 0:\n",
        "      return\n",
        "    for j in range (i+1,n-1):\n",
        "      ratio = matriks[j][i]/matriks[i][i]\n",
        "      for k in range (0,n):\n",
        "        matriks[j][k] = matriks[j][k] - ratio*matriks[i][k]\n",
        "  solusi[n-2]=matriks[n-2][n-1]/matriks[n-2][n-2]\n",
        "  for i in range (n-3,-1,-1):\n",
        "    solusi[i] = matriks[i][n-1]\n",
        "    for j in range (i+1,n-1):\n",
        "      solusi[i] = solusi[i]-matriks[i][j]*solusi[j]\n",
        "    solusi[i] = solusi[i]/matriks[i][i]\n",
        "  print (solusi)\n"
      ]
    },
    {
      "cell_type": "code",
      "execution_count": 2,
      "metadata": {
        "colab": {
          "base_uri": "https://localhost:8080/"
        },
        "id": "_Xn_n-3H5gYz",
        "outputId": "6816416f-ab29-4911-b453-49db2594bf1e"
      },
      "outputs": [
        {
          "name": "stdout",
          "output_type": "stream",
          "text": [
            "[1.0, 2.0, 3.0]\n"
          ]
        }
      ],
      "source": [
        "matriks = np.array([[1,1,1,6],[1,2,-1,2],[2,1,2,10]])\n",
        "gauss_elimination(matriks)"
      ]
    },
    {
      "cell_type": "markdown",
      "metadata": {
        "id": "R0IqDHBp64fH"
      },
      "source": [
        "# LU DECOMPOSITION"
      ]
    },
    {
      "cell_type": "code",
      "execution_count": 3,
      "metadata": {
        "id": "6PjOy1_h67zM"
      },
      "outputs": [],
      "source": [
        "import numpy as np\n",
        "import scipy.linalg as la\n",
        "def lu_decomp(matriks):\n",
        "  print(\"matriks\",matriks)\n",
        "  P,L,U = la.lu(matriks)\n",
        "  print(\"P\",P)\n",
        "  print(\"L\",L)\n",
        "  print(\"U\",U)"
      ]
    },
    {
      "cell_type": "code",
      "execution_count": 4,
      "metadata": {
        "colab": {
          "base_uri": "https://localhost:8080/"
        },
        "id": "XxRzlKpS9fHT",
        "outputId": "907a9b39-33e8-4a17-9847-0f1a537dbaba"
      },
      "outputs": [
        {
          "name": "stdout",
          "output_type": "stream",
          "text": [
            "matriks [[ 1  1  1]\n",
            " [ 1  2 -1]\n",
            " [ 2  1  2]]\n",
            "P [[0. 0. 1.]\n",
            " [0. 1. 0.]\n",
            " [1. 0. 0.]]\n",
            "L [[1.         0.         0.        ]\n",
            " [0.5        1.         0.        ]\n",
            " [0.5        0.33333333 1.        ]]\n",
            "U [[ 2.          1.          2.        ]\n",
            " [ 0.          1.5        -2.        ]\n",
            " [ 0.          0.          0.66666667]]\n"
          ]
        }
      ],
      "source": [
        "matriks = np.array([[1,1,1],[1,2,-1],[2,1,2]])\n",
        "lu_decomp(matriks)"
      ]
    }
  ],
  "metadata": {
    "colab": {
      "collapsed_sections": [
        "QlE0LcE66zqi"
      ],
      "provenance": []
    },
    "kernelspec": {
      "display_name": "Python 3",
      "language": "python",
      "name": "python3"
    },
    "language_info": {
      "codemirror_mode": {
        "name": "ipython",
        "version": 3
      },
      "file_extension": ".py",
      "mimetype": "text/x-python",
      "name": "python",
      "nbconvert_exporter": "python",
      "pygments_lexer": "ipython3",
      "version": "3.10.8 (tags/v3.10.8:aaaf517, Oct 11 2022, 16:50:30) [MSC v.1933 64 bit (AMD64)]"
    },
    "vscode": {
      "interpreter": {
        "hash": "02a7c780b642cf71b64c5b4226c881845b63ca569a9cb345e07baab0f6977591"
      }
    }
  },
  "nbformat": 4,
  "nbformat_minor": 0
}
