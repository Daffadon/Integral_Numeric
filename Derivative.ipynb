{
 "cells": [
  {
   "cell_type": "code",
   "execution_count": 126,
   "metadata": {},
   "outputs": [],
   "source": [
    "f = lambda x : 0.1*(x**4)+ 0.2*(x**3)+ 0.4*(x**2)+ 0.5*x + x + 1"
   ]
  },
  {
   "cell_type": "markdown",
   "metadata": {},
   "source": [
    "## FUNCTION TURUNAN PERTAMA"
   ]
  },
  {
   "cell_type": "code",
   "execution_count": 127,
   "metadata": {},
   "outputs": [],
   "source": [
    "def all_func(f):\n",
    "    print(\"h\\t Beda Maju\\t\\t Beda Mundur\\t\\t Beda tengah\")\n",
    "    x0 = 0\n",
    "    k = 0\n",
    "    h = pow(10,-k)\n",
    "    for i in range(1,10):\n",
    "        fx_forward_diff = (f(x0+h)- f(x0))/h\n",
    "        fx_backward_diff = (f(x0) - f(x0-h))/h\n",
    "        fx_mid_diff = (fx_forward_diff+fx_backward_diff)/2\n",
    "        print(h,\"\\t\",\"{:.6f}\".format(fx_forward_diff),\"\\t\\t\",\"{:.6f}\".format(fx_backward_diff),\"\\t\\t\",\"{:.6f}\".format(fx_mid_diff))\n",
    "        k = k+1\n",
    "        h = pow(10,-k)\n",
    "        if k==5:\n",
    "            break"
   ]
  },
  {
   "cell_type": "markdown",
   "metadata": {},
   "source": [
    "## FUNCTION TURUNAN KEDUA"
   ]
  },
  {
   "cell_type": "code",
   "execution_count": 128,
   "metadata": {},
   "outputs": [],
   "source": [
    "def second_diff(f):\n",
    "    print(\"h\\t k\\t Turunan Kedua\")\n",
    "    x0 = 0\n",
    "    k = 0\n",
    "    h = pow(10,-k)\n",
    "    for i in range(1,10):\n",
    "        fx_second = (f(x0-h) - 2*(f(x0))+f(x0+h))/h**2\n",
    "        print(h,\"\\t\",k,\"\\t\",\"{:.5f}\".format(fx_second))\n",
    "        k = k+1\n",
    "        h = pow(10,-k)\n",
    "        if k==5:\n",
    "            break"
   ]
  },
  {
   "cell_type": "markdown",
   "metadata": {},
   "source": [
    "## TEST FUNCTION"
   ]
  },
  {
   "cell_type": "code",
   "execution_count": 131,
   "metadata": {},
   "outputs": [
    {
     "name": "stdout",
     "output_type": "stream",
     "text": [
      "h\t k\t Turunan Kedua\n",
      "1 \t 0 \t 1.00000\n",
      "0.1 \t 1 \t 0.80200\n",
      "0.01 \t 2 \t 0.80002\n",
      "0.001 \t 3 \t 0.80000\n",
      "0.0001 \t 4 \t 0.80000\n"
     ]
    }
   ],
   "source": [
    "# TURUNAN KEDUA\n",
    "second_diff(f)"
   ]
  },
  {
   "cell_type": "code",
   "execution_count": 133,
   "metadata": {},
   "outputs": [
    {
     "name": "stdout",
     "output_type": "stream",
     "text": [
      "h\t Beda Maju\t\t Beda Mundur\t\t Beda tengah\n",
      "1 \t 2.200000 \t\t 1.200000 \t\t 1.700000\n",
      "0.1 \t 1.542100 \t\t 1.461900 \t\t 1.502000\n",
      "0.01 \t 1.504020 \t\t 1.496020 \t\t 1.500020\n",
      "0.001 \t 1.500400 \t\t 1.499600 \t\t 1.500000\n",
      "0.0001 \t 1.500040 \t\t 1.499960 \t\t 1.500000\n"
     ]
    }
   ],
   "source": [
    "# TURUNAN PERTAMA DENGAN FORWARD, BACKWARD, DAN MID\n",
    "all_func(f)"
   ]
  }
 ],
 "metadata": {
  "kernelspec": {
   "display_name": "Python 3.10.8 64-bit",
   "language": "python",
   "name": "python3"
  },
  "language_info": {
   "codemirror_mode": {
    "name": "ipython",
    "version": 3
   },
   "file_extension": ".py",
   "mimetype": "text/x-python",
   "name": "python",
   "nbconvert_exporter": "python",
   "pygments_lexer": "ipython3",
   "version": "3.10.8 (tags/v3.10.8:aaaf517, Oct 11 2022, 16:50:30) [MSC v.1933 64 bit (AMD64)]"
  },
  "orig_nbformat": 4,
  "vscode": {
   "interpreter": {
    "hash": "02a7c780b642cf71b64c5b4226c881845b63ca569a9cb345e07baab0f6977591"
   }
  }
 },
 "nbformat": 4,
 "nbformat_minor": 2
}
