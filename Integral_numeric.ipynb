{
 "cells": [
  {
   "cell_type": "code",
   "execution_count": 100,
   "metadata": {},
   "outputs": [],
   "source": [
    "import math\n",
    "import numpy as np\n",
    "f = lambda x : np.cos(2*math.pi*x)\n",
    "# f = lambda x : 1/x"
   ]
  },
  {
   "cell_type": "markdown",
   "metadata": {},
   "source": [
    "## Rieman Kiri"
   ]
  },
  {
   "cell_type": "code",
   "execution_count": 35,
   "metadata": {},
   "outputs": [],
   "source": [
    "def rieman_kiri(f,b,a):\n",
    "    n = 4\n",
    "    batas_atas = b\n",
    "    batas_bawah = a\n",
    "    temp = a\n",
    "    h = (b-a)/n\n",
    "    result = f(a)\n",
    "    for i in range(1,n):\n",
    "        result += (f(temp + h))\n",
    "        temp = (temp+h)\n",
    "    result *= h\n",
    "    return result\n",
    "\n"
   ]
  },
  {
   "cell_type": "code",
   "execution_count": 36,
   "metadata": {},
   "outputs": [
    {
     "name": "stdout",
     "output_type": "stream",
     "text": [
      "-4.592425496802574e-17\n"
     ]
    }
   ],
   "source": [
    "result_kiri = rieman_kiri(f,1,0)\n",
    "print(result_kiri)"
   ]
  },
  {
   "cell_type": "markdown",
   "metadata": {},
   "source": [
    "## Rieman Kanan"
   ]
  },
  {
   "cell_type": "code",
   "execution_count": 37,
   "metadata": {},
   "outputs": [],
   "source": [
    "def rieman_kanan(f,b,a):\n",
    "    n = 4\n",
    "    batas_atas = b\n",
    "    batas_bawah = a\n",
    "    temp = b\n",
    "    h = (b-a)/n\n",
    "    result = f(b)\n",
    "    for i in range(1,n):\n",
    "        result += (f(temp - h))\n",
    "        temp = (temp-h)\n",
    "    result *= h\n",
    "    return result"
   ]
  },
  {
   "cell_type": "code",
   "execution_count": 38,
   "metadata": {},
   "outputs": [
    {
     "name": "stdout",
     "output_type": "stream",
     "text": [
      "-4.020306624191591e-17\n"
     ]
    }
   ],
   "source": [
    "result_kanan= rieman_kanan(f,1,0)\n",
    "print(result_kanan)"
   ]
  },
  {
   "cell_type": "markdown",
   "metadata": {},
   "source": [
    "## Rieman Tengah"
   ]
  },
  {
   "cell_type": "code",
   "execution_count": 39,
   "metadata": {},
   "outputs": [],
   "source": [
    "def rieman_tengah(f,b,a):\n",
    "    n = 4\n",
    "    batas_atas = b\n",
    "    batas_bawah = a\n",
    "    temp = a\n",
    "    h = (b-a)/n\n",
    "    result = 0\n",
    "    for i in range(1,n+1):\n",
    "        result += f((temp + (temp+h))/2)\n",
    "        temp += h\n",
    "    result *= h\n",
    "    print(result)"
   ]
  },
  {
   "cell_type": "code",
   "execution_count": 40,
   "metadata": {},
   "outputs": [
    {
     "name": "stdout",
     "output_type": "stream",
     "text": [
      "-5.551115123125783e-17\n"
     ]
    }
   ],
   "source": [
    "rieman_tengah(f,1,0)"
   ]
  },
  {
   "cell_type": "markdown",
   "metadata": {},
   "source": [
    "### Error approximation in Riemann is\n",
    "left sum riemann - right sum riemann"
   ]
  },
  {
   "cell_type": "code",
   "execution_count": 41,
   "metadata": {},
   "outputs": [
    {
     "name": "stdout",
     "output_type": "stream",
     "text": [
      "5.721188726109833e-18\n"
     ]
    }
   ],
   "source": [
    "err_apprx_rieman = abs(result_kiri) - abs(result_kanan)\n",
    "print(err_apprx_rieman)"
   ]
  },
  {
   "cell_type": "markdown",
   "metadata": {},
   "source": [
    "## Trapesium"
   ]
  },
  {
   "cell_type": "code",
   "execution_count": 42,
   "metadata": {},
   "outputs": [],
   "source": [
    "def Trapesium(f,b,a):\n",
    "    n = 4\n",
    "    batas_atas = b\n",
    "    batas_bawah = a \n",
    "    temp = a\n",
    "    h = (b-a)/n\n",
    "    result = f(a)\n",
    "    for i in range(1,n):\n",
    "        result += (f(temp+h))*2\n",
    "        temp += h\n",
    "    result += f(b)\n",
    "    result *= h/2\n",
    "    print(result)"
   ]
  },
  {
   "cell_type": "code",
   "execution_count": 43,
   "metadata": {},
   "outputs": [
    {
     "name": "stdout",
     "output_type": "stream",
     "text": [
      "-2.7755575615628914e-17\n"
     ]
    }
   ],
   "source": [
    "Trapesium(f,1,0)"
   ]
  },
  {
   "cell_type": "markdown",
   "metadata": {},
   "source": [
    "### error approximation trapzium method"
   ]
  },
  {
   "cell_type": "code",
   "execution_count": 54,
   "metadata": {},
   "outputs": [],
   "source": [
    "def second_diff(f):\n",
    "    x0 = 0\n",
    "    k = 0\n",
    "    h = pow(10,-k)\n",
    "    for i in range(1,10):\n",
    "        fx_second = (f(x0-h) - 2*(f(x0))+f(x0+h))/h**2\n",
    "        k = k+1\n",
    "        h = pow(10,-k)\n",
    "        if k==5:\n",
    "            return fx_second\n",
    "        \n",
    "def error_trapezium(f,a,b,n):\n",
    "    \n",
    "    return -((b-a)**3)/(12*n**2)*second_diff(f)"
   ]
  },
  {
   "cell_type": "code",
   "execution_count": 55,
   "metadata": {},
   "outputs": [
    {
     "name": "stdout",
     "output_type": "stream",
     "text": [
      "-0.2056167516343669\n"
     ]
    }
   ],
   "source": [
    "print(error_trapezium(f,1,0,4))"
   ]
  },
  {
   "cell_type": "markdown",
   "metadata": {},
   "source": [
    "## Simpson (Parabola)"
   ]
  },
  {
   "cell_type": "code",
   "execution_count": 101,
   "metadata": {},
   "outputs": [],
   "source": [
    "import sympy as sp\n",
    "def Simpson(f,b,a):\n",
    "    n = 4\n",
    "    batas_atas = b\n",
    "    batas_bawah = a \n",
    "    temp = a\n",
    "    h = (b-a)/n\n",
    "    result = f(a)\n",
    "    for i in range(1,n):\n",
    "        if i%2==0:\n",
    "            result += (f(temp+h))*2\n",
    "        else:\n",
    "            result += (f(temp+h))*4\n",
    "        temp += h\n",
    "    result += f(b)\n",
    "    result *= h/3\n",
    "    print(result)\n",
    "    \n",
    "def simpson_error_approx(f,b,a,n):\n",
    "    fourt_diff = f\n",
    "    for i in range(1,5):\n",
    "        temp = sp.diff(fourt_diff)\n",
    "        fourt_diff = temp\n",
    "    return (((b-a)**5)/180*n**4)* (fourt_diff(b))"
   ]
  },
  {
   "cell_type": "code",
   "execution_count": 102,
   "metadata": {},
   "outputs": [
    {
     "name": "stdout",
     "output_type": "stream",
     "text": [
      "-3.700743415417188e-17\n"
     ]
    }
   ],
   "source": [
    "Simpson(f,1,0)"
   ]
  }
 ],
 "metadata": {
  "kernelspec": {
   "display_name": "Python 3.10.8 64-bit",
   "language": "python",
   "name": "python3"
  },
  "language_info": {
   "codemirror_mode": {
    "name": "ipython",
    "version": 3
   },
   "file_extension": ".py",
   "mimetype": "text/x-python",
   "name": "python",
   "nbconvert_exporter": "python",
   "pygments_lexer": "ipython3",
   "version": "3.10.8 (tags/v3.10.8:aaaf517, Oct 11 2022, 16:50:30) [MSC v.1933 64 bit (AMD64)]"
  },
  "orig_nbformat": 4,
  "vscode": {
   "interpreter": {
    "hash": "02a7c780b642cf71b64c5b4226c881845b63ca569a9cb345e07baab0f6977591"
   }
  }
 },
 "nbformat": 4,
 "nbformat_minor": 2
}
